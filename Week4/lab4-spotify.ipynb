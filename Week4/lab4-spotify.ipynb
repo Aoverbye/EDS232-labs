{
 "cells": [
  {
   "cell_type": "markdown",
   "id": "ad7fbe2b-da60-4059-ae71-e322fecfd0db",
   "metadata": {},
   "source": [
    "# Lab 4: Building a Spotify Song Classifier with KNNs and Decision Trees\n",
    "**Classify by genres**. In this lab, you will build machine learning genre classifiers using a dataset of Spotify tracks. Your goal is to train a model that can distinguish between two selected genres based on various audio features such as danceability, energy, valence, tempo, and more.\n",
    "\n",
    "We'll follow the familiar workflow of data exploration -> preprocessing -> model training -> evaluation"
   ]
  },
  {
   "cell_type": "code",
   "execution_count": 1,
   "id": "cb34875f",
   "metadata": {
    "tags": []
   },
   "outputs": [],
   "source": [
    "import pandas as pd\n",
    "from sklearn.preprocessing import LabelEncoder\n",
    "from sklearn.preprocessing import StandardScaler\n",
    "from sklearn.model_selection import train_test_split\n",
    "import matplotlib.pyplot as plt\n",
    "import seaborn as sns\n",
    "from sklearn.neighbors import KNeighborsClassifier\n",
    "from sklearn.tree import DecisionTreeClassifier\n",
    "from sklearn.metrics import accuracy_score\n",
    "import numpy as np"
   ]
  },
  {
   "cell_type": "markdown",
   "id": "4aaac8c4-fbb4-40f9-8a59-e800395c6c65",
   "metadata": {},
   "source": [
    "### Step 1: The data\n",
    "We'll focus on two genres: Blues and Jazz (what’s the difference, anyway??).\n",
    "\n",
    "Both genres have rich musical histories, but they differ in structure:\n",
    "\n",
    "- Blues tends to have simpler chord progressions and a strong emotional expression.\n",
    "- Jazz often involves complex improvisation and more varied rhythms.\n",
    "\n",
    "But can a machine really tell them apart just by looking at numerical audio features? That’s what we’ll find out!\n",
    "\n",
    "In this step, you will:\n",
    "- Load the dataset\n",
    "- Extract only blues and jazz for classification"
   ]
  },
  {
   "cell_type": "code",
   "execution_count": 2,
   "id": "b7a8a576-9cea-48da-ac63-9856f32f1ecd",
   "metadata": {
    "tags": []
   },
   "outputs": [
    {
     "name": "stdout",
     "output_type": "stream",
     "text": [
      "id                   object\n",
      "name                 object\n",
      "album                object\n",
      "album_id             object\n",
      "artists              object\n",
      "artist_ids           object\n",
      "track_number          int64\n",
      "disc_number           int64\n",
      "explicit               bool\n",
      "danceability        float64\n",
      "energy              float64\n",
      "key                   int64\n",
      "loudness            float64\n",
      "mode                  int64\n",
      "speechiness         float64\n",
      "acousticness        float64\n",
      "instrumentalness    float64\n",
      "liveness            float64\n",
      "valence             float64\n",
      "tempo               float64\n",
      "duration_ms           int64\n",
      "time_signature      float64\n",
      "year                  int64\n",
      "release_date         object\n",
      "genres               object\n",
      "dtype: object\n"
     ]
    }
   ],
   "source": [
    "spotify_data = pd.read_csv('/courses/EDS232/Data/spotify_dat.csv')\n",
    "\n",
    "# Print the data types in spotify_data\n",
    "print(spotify_data.dtypes)"
   ]
  },
  {
   "cell_type": "code",
   "execution_count": 3,
   "id": "4c1e8db0-683b-4d6d-b506-682774aea31d",
   "metadata": {
    "tags": []
   },
   "outputs": [
    {
     "name": "stdout",
     "output_type": "stream",
     "text": [
      "['rap metal' 'soft rock' 'Unknown' 'singer-songwriter' 'americana'\n",
      " 'christian rock' 'skate punk' 'pop punk' 'new wave' 'country'\n",
      " 'madchester' 'j-rock' 'blues' 'grime' 'art rock' 'blues rock'\n",
      " 'chamber pop' 'french jazz' 'worship' 'ccm' 'alternative rock'\n",
      " 'indie rock' 'new age' 'classic rock' 'bluegrass' 'traditional country'\n",
      " 'classical piano' 'folk' 'chamber music' 'classical' 'minimalism'\n",
      " 'southern rock' 'roots rock' 'mariachi' 'nu jazz' 'breakcore'\n",
      " 'avant-garde' 'arabic rap' 'grunge' 'progressive rock' 'punk'\n",
      " 'post-hardcore' 'noise rock' 'sludge metal' 'nu metal' 'metal'\n",
      " 'industrial metal' 'hardcore' 'orchestra' 'latin jazz' 'dream pop'\n",
      " 'garage rock' 'trip hop' 'post-grunge' 'britpop' 'big beat' 'idm'\n",
      " 'rock en español' 'mexican ska' 'minimal techno' 'chanson'\n",
      " 'alternative dance' 'drone' 'proto-punk' 'gospel' 'indie folk'\n",
      " 'hardcore punk' 'neue deutsche welle' 'space music' 'r&b' 'latin pop'\n",
      " 'christmas' 'emo' 'power pop' 'chillstep' 'salsa' 'spoken word'\n",
      " 'west coast hip hop' 'christian' 'jangle pop' 'alt country' 'power metal'\n",
      " 'krautrock' 'industrial' 'melodic hardcore' 'hard techno' 'anime'\n",
      " 'bossa nova' 'vocal jazz' 'dark cabaret' 'southern hip hop' 'space rock'\n",
      " 'bebop' 'post-rock' 'glitch' 'doo-wop' 'celtic' 'cloud rap' 'cedm'\n",
      " 'speed metal' 'deathcore' 'flamenco' 'timba' 'breakbeat' 'folk rock'\n",
      " 'gothic country' 'soundtrack' 'metalcore' 'east coast hip hop'\n",
      " 'acid techno' 'dembow' 'free jazz' 'neoclassical' 'math rock' 'ambient'\n",
      " 'trap' 'nerdcore' 'v-pop' 'spanish language reggae' 'melodic death metal'\n",
      " 'j-pop' 'downtempo' 'reggae' 'jazz funk' 'country rock' 'future bass'\n",
      " 'medieval' 'soca' 'glam metal' 'heavy metal' 'boom bap' 'neofolk' 'opera'\n",
      " 'industrial rock' 'hi-nrg' 'symphonic rock' 'progressive metal'\n",
      " 'album rock' 'folk punk' 'psychedelic rock' 'shoegaze' 'nederpop'\n",
      " 'ragtime' 'slowcore' 'lo-fi beats' 'melodic bass' 'eurodance' 'mpb'\n",
      " 'afrobeat' 'drum and bass' 'afropop' 'motown' 'exotica' 'choral'\n",
      " 'neo soul' 'musicals' 'dark trap' 'happy hardcore' 'melodic rap'\n",
      " 'northern soul' 'boogie-woogie' 'shibuya-kei' 'hardcore techno' 'dubstep'\n",
      " 'alternative hip hop' 'variété française' 'schlager' 'trova'\n",
      " 'disco house' 'indie dance' 'deathrock' 'jazz rap' 'midwest emo'\n",
      " 'electroclash' 'rock' 'acid jazz' 'synthpop' 'underground hip hop'\n",
      " 'cantopop' 'comedy' 'ska' 'smooth jazz' 'swing music' 'christian folk'\n",
      " 'funk rock' 'symphonic metal' 'alternative pop' 'black metal'\n",
      " 'dark ambient' 'bolero' 'hard bop' 'ska punk' 'italo disco'\n",
      " 'latin alternative' 'hip house' 'post-punk' 'new jack swing'\n",
      " 'psychedelic pop' 'arena rock' 'acid house' 'gospel r&b' 'opm' 'soul'\n",
      " 'ebm' 'big band' 'groove metal' 'pop' 'experimental hip hop' 'darkwave'\n",
      " 'gothic metal' 'gangster rap' 'jazz fusion' 'sufi' 'rockabilly'\n",
      " 'christian alternative rock' 'red dirt' 'japanese vgm' 'iskelmä'\n",
      " 'rocksteady' 'requiem' 'tango' 'soul jazz' 'sea shanties' 'surf rock'\n",
      " 'traditional music' 'dansband' 'stoner rock' 'screamo' 'quiet storm'\n",
      " 'g-funk' 'horrorcore' 'art pop' 'alternative r&b' 'death metal'\n",
      " 'thai rock' 'melodic techno' 'jazz' 'dub techno' 'j-dance' 'miami bass'\n",
      " 'rhumba' 'bass music' 'italo dance' 'tropical house' 'brazilian rock'\n",
      " 'grindcore' 'experimental' 'lovers rock' 'alternative metal' 'nu disco'\n",
      " 'jungle' 'indietronica' 'thrash metal' 'liquid funk' 'drumstep' 'norteño'\n",
      " 'hands up' 'ranchera' 'freestyle' 'philly soul' 'chicago house' 'disco'\n",
      " 'funk melody' 'finnish rock' 'lo-fi house' 'psytrance' 'modern blues'\n",
      " 'champeta' 'funky house' 'latin house' 'deep house' 'uk garage'\n",
      " 'tech house' 'afro house' 'lounge' 'hard house' 'indie pop' 'psychobilly'\n",
      " 'swedish ballads' 'lo-fi' 'dub' 'folk pop' 'acoustic folk' 'europop'\n",
      " 'newgrass' 'country blues' 'honky tonk' \"children's music\" 'k-ballad'\n",
      " 'kundiman' 'tribal house' 'gregorian chant' 'reggae rock'\n",
      " 'vietnamese bolero' 'folk metal' 'medieval metal' 'pirate metal'\n",
      " 'french pop' 'merengue' 'classic blues' 'jazz blues' 'german pop'\n",
      " 'hard rock' 'mizrahi' 'glam rock' 'baroque pop' 'doom metal' 'new beat'\n",
      " 'dansktop' 'brazilian jazz' 'post-disco' 'rap' 'soft pop' 'gnawa'\n",
      " 'christian country' 'cold wave' 'chillwave' 'j-rap' 'latin' 'bassline'\n",
      " 'djent' 'soul blues' 'edm' 'acid rock' 'witch house' 'texas country'\n",
      " 'emocore' 'christian hip hop' 'canzone napoletana' 'adult standards'\n",
      " 'hyphy' 'synthwave' 'rap rock' 'axé' 'mexican hip hop' 'reggaeton'\n",
      " 'lullaby' 'disco polo' 'new rave' 'roots reggae' 'mandopop' 'techno'\n",
      " 'french house' 'indie jazz' 'trance' 'polka' 'rock urbano' 'hyperpop'\n",
      " 'riddim' 'italian singer-songwriter' 'japanese classical' 'acoustic pop'\n",
      " 'big room' 'visual kei' 'finnish pop' 'urbano latino' 'memphis rap'\n",
      " 'argentine rock' 'modern rock' 'indian indie' 'crunk' 'celtic rock'\n",
      " 'german hip hop' 'hardstyle' 'son cubano' 'deathstep' 'gabber' 'emo pop'\n",
      " 'progressive trance' 'piano house' 'brazilian hip hop' 'southern gospel'\n",
      " 'turkish pop' 'go-go' 'bachata' 'speedcore' 'turkish hip hop'\n",
      " 'slap house' 'latin folk' 'russelåter' 'latin hip hop' 'tekno'\n",
      " 'pinoy rock' 'bubblegum pop' 'eurotrance' 'hip hop' 'pagode' 'cool jazz'\n",
      " 'electro swing' 'dancehall' 'tejano' 'thai hip hop' 'country hip hop'\n",
      " 'k-pop' 'ragga' 'progressive house' 'uk funky' 'electronic rock' 'bhajan'\n",
      " 'devotional' 'bhangra' 'acoustic country' 'japanese indie'\n",
      " 'melodic metal' 'taiwanese pop' 'vaporwave' 'retro soul' 'brooklyn drill'\n",
      " 'meme rap' 'cha cha cha' 'taiwanese indie' 'funk' 'latin rock' 'kuduro'\n",
      " 'gengetone' 'grupera' 'calypso' 'indorock' 'mambo' 'tollywood'\n",
      " 'acoustic rock' 'norwegian rap' 'norwegian pop' 'chinese hip hop'\n",
      " 'kayokyoku' 'emo rap' 'nueva trova' 'salsa romantica' 'chicha'\n",
      " 'ethiopian jazz' 'música mexicana' 'banda' 'highlife' 'hiplife' 'zouk'\n",
      " 'brazilian bass' 'organic house' 'arabesque' 'malayalam pop' 'manele'\n",
      " 'latin r&b' 'anatolian rock' 'chinese rock' 'k-rap' 'epadunk' 'sertanejo'\n",
      " 'melbourne bounce' 'nz reggae' 'house' 'chill house' 'dance pop'\n",
      " 'smooth soul' 'folklore argentino' 'bedroom pop' 'moombahton' 'k-rock'\n",
      " 'pop rock' 'vocaloid' 'forró' 'raï' 'electropop' 'frenchcore'\n",
      " 'sovietwave' 'rage rap' 'pop urbaine' 'bass house' 'j-r&b' 'samba'\n",
      " 'qawwali' 'mexican rock' 'funk pop' 'malay pop' 'hardcore hip hop'\n",
      " 'afrobeats' 'edm trap' 'drill' 'brazilian pop' 'tamil dance'\n",
      " 'mexican indie' 'duranguense' 'piseiro' 'city pop' 'electro house'\n",
      " 'afro soul' 'ghazal' 'future house' 'funkot' 'egyptian pop' 'khaleeji'\n",
      " 'brega' 'brega funk' 'huayno' 'melodic house' 'sertanejo universitário'\n",
      " 'telugu pop' 'pop worship' 'uk drill' 'indonesian pop'\n",
      " 'portuguese hip hop' 'azonto' 'luk thung' 'afroswing' 'latin indie'\n",
      " 'fújì' 'bongo flava' 'nova mpb' 'malaysian pop' 'african gospel' 'indie'\n",
      " 'enka' 'pinoy indie' 'schlagerparty' 'malay' 'punto guajiro' 'fado'\n",
      " 'budots' 'algerian chaabi' 'latin dance' 'entehno' 'aussie drill'\n",
      " 'punk rap' 'hindi indie' 'desi pop' 'mahraganat' 'pinoy hip hop'\n",
      " 'pop country' 'stutter house' 'bounce' 'kizomba' 'easy listening'\n",
      " 'phleng phuea chiwit' 'tamil hip hop' 'singeli' 'latin afrobeat'\n",
      " 'vallenato' 'trap latino' 'electronic' 'finnish hip hop' 'jersey club'\n",
      " 'electro' 'brazilian evangelical music' 'amapiano' 'bangla pop'\n",
      " 'forro tradicional' 'chinese indie' 'indonesian indie' 'jazz beats'\n",
      " 'g-house' 'laïko' 'gufeng' 'tamil pop' 'rock and roll' 'vietnamese lo-fi'\n",
      " 'pop soul' 'gqom' 'seresta' 'bachata pop' 'bisrock' 'cumbia sonidera'\n",
      " 'c-pop' 'colombian pop' 'cumbia' 'boogie' 'p-pop' 'desi hip hop' 'punta'\n",
      " 'dangdut' 'sholawat' 'cuarteto' 'música tropical' 'punjabi hip hop'\n",
      " 'alté' 'neomelodico' 'mollywood' 'moroccan chaabi' 'norteño-sax'\n",
      " 'sertanejo tradicional' 'christian pop' 'karadeniz folk' 'oyun havasi'\n",
      " 'bhojpuri pop' 'desi' 'flamenco pop' 'pentecostal' 'pop rap' 'malay rap'\n",
      " 'phonk' 'pop r&b' 'indie r&b' 'bollywood' 'cumbia norteña'\n",
      " 'brazilian funk' 'pop urbano' 'corrido' 'malayalam hip hop' 'punjabi pop'\n",
      " 'chilean trap' 'batak' 'neoperreo' 'anime rap' 'sierreño' 'tamil indie'\n",
      " 'vietnam indie' 'kannada pop' 'reggaeton mexa' 'italian trap' 'maluku'\n",
      " 'electronica' 'reggaeton chileno' 'sandalwood' 'chilean mambo'\n",
      " 'pinoy r&b' 'funk consciente' 'nightcore' 'chinese r&b' 'funk de bh'\n",
      " 'thai indie pop' 'gujarati garba' 'popular colombian music'\n",
      " 'argentine trap' 'drift phonk' 'rave' 'marathi pop' 'trap funk'\n",
      " 'vinahouse' 'electro corridos' 'new york drill' 'egyptian hip hop'\n",
      " 'guaracha' 'sad sierreño' 'chill beats' 'brazilian trap' 'asakaa'\n",
      " 'corridos tumbados']\n"
     ]
    }
   ],
   "source": [
    "print(spotify_data[\"genres\"].unique())"
   ]
  },
  {
   "cell_type": "code",
   "execution_count": 4,
   "id": "082e215a",
   "metadata": {
    "tags": []
   },
   "outputs": [
    {
     "name": "stdout",
     "output_type": "stream",
     "text": [
      "['jazz']\n",
      "                          id                    name       album  \\\n",
      "9370  2gUvAgzcah09iRarSf62fN       Everything I Love  Blue Waltz   \n",
      "9371  5BWzVgoB7GF0GoPleZwlg0              Blue Waltz  Blue Waltz   \n",
      "9372  16EJtLHY51K46GULZjrSUc      Come Rose Dai Muri  Blue Waltz   \n",
      "9373  4THJKQ6mYTL7fuvcwcrcOy            Molto Ancora  Blue Waltz   \n",
      "9374  6XmyMmdKUgzC66oHOgPnSk  All the Things You Are  Blue Waltz   \n",
      "\n",
      "                    album_id                                    artists  \\\n",
      "9370  4ieAxUV4WFZj9imsPVehYa  ['Enrico Pieranunzi', 'Thomas Fonnesbæk']   \n",
      "9371  4ieAxUV4WFZj9imsPVehYa  ['Enrico Pieranunzi', 'Thomas Fonnesbæk']   \n",
      "9372  4ieAxUV4WFZj9imsPVehYa  ['Enrico Pieranunzi', 'Thomas Fonnesbæk']   \n",
      "9373  4ieAxUV4WFZj9imsPVehYa  ['Enrico Pieranunzi', 'Thomas Fonnesbæk']   \n",
      "9374  4ieAxUV4WFZj9imsPVehYa  ['Enrico Pieranunzi', 'Thomas Fonnesbæk']   \n",
      "\n",
      "                                             artist_ids  track_number  \\\n",
      "9370  ['5vACdMa2kY7jHnlJwqYRKP', '2GWMZZQNuU0VZra0su...             1   \n",
      "9371  ['5vACdMa2kY7jHnlJwqYRKP', '2GWMZZQNuU0VZra0su...             2   \n",
      "9372  ['5vACdMa2kY7jHnlJwqYRKP', '2GWMZZQNuU0VZra0su...             3   \n",
      "9373  ['5vACdMa2kY7jHnlJwqYRKP', '2GWMZZQNuU0VZra0su...             4   \n",
      "9374  ['5vACdMa2kY7jHnlJwqYRKP', '2GWMZZQNuU0VZra0su...             5   \n",
      "\n",
      "      disc_number  explicit  danceability  ...  acousticness  \\\n",
      "9370            1     False         0.461  ...         0.954   \n",
      "9371            1     False         0.425  ...         0.941   \n",
      "9372            1     False         0.391  ...         0.907   \n",
      "9373            1     False         0.444  ...         0.962   \n",
      "9374            1     False         0.455  ...         0.955   \n",
      "\n",
      "      instrumentalness  liveness  valence    tempo  duration_ms  \\\n",
      "9370             0.861     0.984   0.2490  111.621       400576   \n",
      "9371             0.899     0.717   0.3040  105.492       533556   \n",
      "9372             0.902     0.698   0.2670  109.899       422782   \n",
      "9373             0.881     0.696   0.0733   77.879       450788   \n",
      "9374             0.883     0.704   0.1860   94.219       585958   \n",
      "\n",
      "      time_signature  year  release_date  genres  \n",
      "9370             4.0  2018    2018-07-13    jazz  \n",
      "9371             4.0  2018    2018-07-13    jazz  \n",
      "9372             4.0  2018    2018-07-13    jazz  \n",
      "9373             4.0  2018    2018-07-13    jazz  \n",
      "9374             4.0  2018    2018-07-13    jazz  \n",
      "\n",
      "[5 rows x 25 columns]\n"
     ]
    }
   ],
   "source": [
    "# Filter down to two genres\n",
    "blues_data = spotify_data[spotify_data[\"genres\"] == \"blues\"]\n",
    "\n",
    "#print(blues_data[\"genres\"].unique())\n",
    "#print(blues_data.head())\n",
    "\n",
    "jazz_data = spotify_data[spotify_data[\"genres\"] == \"jazz\"]\n",
    "\n",
    "print(jazz_data[\"genres\"].unique())\n",
    "\n",
    "print(jazz_data.head())\n"
   ]
  },
  {
   "cell_type": "code",
   "execution_count": 5,
   "id": "fcf63f06-f445-4435-8688-6a1090506848",
   "metadata": {
    "tags": []
   },
   "outputs": [
    {
     "name": "stdout",
     "output_type": "stream",
     "text": [
      "['blues' 'jazz']\n"
     ]
    }
   ],
   "source": [
    "# Combine both genres into one dataset\n",
    "combined_data = pd.concat([blues_data, jazz_data], ignore_index = True)\n",
    "\n",
    "# Check to ensure concat was sucessful\n",
    "print(combined_data['genres'].unique())"
   ]
  },
  {
   "cell_type": "code",
   "execution_count": 6,
   "id": "00f4fb74-3b37-49b8-a4c0-805e4f714784",
   "metadata": {
    "tags": []
   },
   "outputs": [
    {
     "name": "stdout",
     "output_type": "stream",
     "text": [
      "0    blues\n",
      "1    blues\n",
      "2    blues\n",
      "3    blues\n",
      "4    blues\n",
      "Name: genre, dtype: object\n"
     ]
    }
   ],
   "source": [
    "# Rename 'genres' column to 'genre' for clarity\n",
    "combined_data = combined_data.rename(columns = {'genres' : 'genre'})\n",
    "\n",
    "print(combined_data['genre'].head())"
   ]
  },
  {
   "cell_type": "markdown",
   "id": "70e8340d-f51a-4659-b3eb-c0549575552a",
   "metadata": {},
   "source": [
    "## Step 2: Data Exploration\n",
    "Now that we have Blues and Jazz as our two genres, it's time to explore the data and look for patterns in the audio features.\n",
    "\n",
    "Let's investigate:\n",
    "- Which features are available?\n",
    "- How strongly these features correlate with each other.\n",
    "- How different genres distribute across  sample features: danceability \n",
    "\n",
    "In this step, we will:\n",
    "- Filter out non-numeric columns before the plotting\n",
    "- Visualize feature correlations using a heatmap.\n",
    "- Examine key feature distributions with histograms to see if genres behave differently.\n"
   ]
  },
  {
   "cell_type": "code",
   "execution_count": 7,
   "id": "8d476df1-a888-43a2-aabb-987bc9e835aa",
   "metadata": {
    "tags": []
   },
   "outputs": [
    {
     "name": "stdout",
     "output_type": "stream",
     "text": [
      "track_number          int64\n",
      "disc_number           int64\n",
      "danceability        float64\n",
      "energy              float64\n",
      "key                   int64\n",
      "loudness            float64\n",
      "mode                  int64\n",
      "speechiness         float64\n",
      "acousticness        float64\n",
      "instrumentalness    float64\n",
      "liveness            float64\n",
      "valence             float64\n",
      "tempo               float64\n",
      "duration_ms           int64\n",
      "time_signature      float64\n",
      "year                  int64\n",
      "genre                object\n",
      "dtype: object\n"
     ]
    },
    {
     "name": "stderr",
     "output_type": "stream",
     "text": [
      "/opt/python/3.7.13/lib/python3.7/site-packages/ipykernel_launcher.py:3: SettingWithCopyWarning: \n",
      "A value is trying to be set on a copy of a slice from a DataFrame.\n",
      "Try using .loc[row_indexer,col_indexer] = value instead\n",
      "\n",
      "See the caveats in the documentation: https://pandas.pydata.org/pandas-docs/stable/user_guide/indexing.html#returning-a-view-versus-a-copy\n",
      "  This is separate from the ipykernel package so we can avoid doing imports until\n"
     ]
    },
    {
     "data": {
      "image/png": "[encoded data removed]",
      "text/plain": [
       "<Figure size 800x600 with 2 Axes>"
      ]
     },
     "metadata": {},
     "output_type": "display_data"
    }
   ],
   "source": [
    "# Exclude non-numeric columns but keep 'genre' for grouping\n",
    "numeric_features = combined_data.select_dtypes(include='number')\n",
    "numeric_features['genre'] = combined_data['genre']\n",
    "\n",
    "print(numeric_features.dtypes)\n",
    "\n",
    "#Correlation heatmap\n",
    "corr = numeric_features.corr()\n",
    "\n",
    "# Generate a heatmap\n",
    "plt.figure(figsize=(8, 6))\n",
    "sns.heatmap(corr, annot=False, cmap = 'viridis')\n",
    "plt.title(\"Song Features Correlation Heatmap\")\n",
    "\n",
    "plt.show()"
   ]
  },
  {
   "cell_type": "code",
   "execution_count": 8,
   "id": "1b451bff-0545-4304-b92f-7a8a1d2f5742",
   "metadata": {
    "tags": []
   },
   "outputs": [
    {
     "data": {
      "image/png": "[encoded data removed]",
      "text/plain": [
       "<Figure size 800x600 with 1 Axes>"
      ]
     },
     "metadata": {},
     "output_type": "display_data"
    }
   ],
   "source": [
    "# Histogram of danceability\n",
    "plt.figure(figsize=(8, 6))\n",
    "plt.hist([combined_data[combined_data['genre'] == 'blues']['danceability'], \n",
    "          combined_data[combined_data['genre'] == 'jazz']['danceability']], \n",
    "         bins=30, alpha=0.8, label=['Blues', 'Jazz'], color=['goldenrod', 'teal'])\n",
    "plt.xlabel('Danceability')\n",
    "plt.ylabel('Frequency In Genre')\n",
    "plt.title('Danceability Distribution by Genre')\n",
    "plt.legend(title='Genre')\n",
    "plt.show()"
   ]
  },
  {
   "cell_type": "markdown",
   "id": "56f79f22-1036-4ae9-90f8-73ad0f6169b0",
   "metadata": {},
   "source": [
    "### Step 3: Check for class imbalance\n",
    "An unequal distribution between the target classes can cause issues for our classifiers, so we'll need to check for that. A commonly used guideline for class imbalance is:\n",
    "\n",
    "- Slight Imbalance (Less than 1.5:1) → Generally okay; no need for balancing.\n",
    "- Moderate Imbalance (Between 1.5:1 and 3:1) → Might cause some bias; balancing can help.\n",
    "- Severe Imbalance (More than 3:1) → Strongly affects model performance; balancing is usually necessary."
   ]
  },
  {
   "cell_type": "code",
   "execution_count": 9,
   "id": "1470168c-bd6c-412a-9549-47ff191e8644",
   "metadata": {},
   "outputs": [
    {
     "name": "stdout",
     "output_type": "stream",
     "text": [
      "Class distribution:\n",
      " blues    14811\n",
      "jazz     10023\n",
      "Name: genre, dtype: int64\n",
      "Class ratio:\n",
      "1.478:1\n"
     ]
    }
   ],
   "source": [
    "# Print counts of each genre\n",
    "class_counts = combined_data['genre'].value_counts()\n",
    "\n",
    "# Calculate ratio of majority to minority class\n",
    "class_ratio = class_counts.max() / class_counts.min()\n",
    "\n",
    "# Print class distribution and ratio\n",
    "print(\"Class distribution:\\n\",class_counts)\n",
    "print(f\"Class ratio:\\n{class_ratio:.3f}:1\")"
   ]
  },
  {
   "cell_type": "markdown",
   "id": "a20e289d",
   "metadata": {},
   "source": [
    "**Question:**\n",
    "\n",
    "Given this result, should we be worried about the imbalance?"
   ]
  },
  {
   "cell_type": "markdown",
   "id": "8d3583ec",
   "metadata": {},
   "source": [
    "**Answer:**\n",
    "\n",
    "Because our class imbalance is 1.48:1, I am not worried about the class imbalance based on the scale above. Our score implies that in general we are okay and we do not need to balance."
   ]
  },
  {
   "cell_type": "markdown",
   "id": "8a5d0f97",
   "metadata": {},
   "source": [
    "### Step 4: Preprocessing\n",
    "We need to ensure all the variables we use are numerical so the models can process them. First we'll drop all the variables that are not numeric or the target. Then we'll use a sklearn utility, `LabelEncoder()` to encode our categorical target variable into numerical values. Print the first five values of your encoded labels."
   ]
  },
  {
   "cell_type": "code",
   "execution_count": 10,
   "id": "6ce674f3",
   "metadata": {
    "tags": []
   },
   "outputs": [
    {
     "name": "stdout",
     "output_type": "stream",
     "text": [
      "Encoded labels: [0 0 0 0 0]\n",
      "Encoded labels: [0 0 0 ... 1 1 1]\n"
     ]
    }
   ],
   "source": [
    "# Define the features (drop columns that are not numeric or target)\n",
    "X = combined_data.select_dtypes(include=['number']).drop(columns=['track_number', 'disc_number', 'year'])\n",
    "\n",
    "# Set the target variable as 'genre'\n",
    "y = combined_data['genre']\n",
    "\n",
    "# Encode the target variable ('label') using label encoding\n",
    "label_encoder = LabelEncoder()\n",
    "y_encoded = label_encoder.fit_transform(y)\n",
    "\n",
    "# Print first five values of encoded labels\n",
    "print(\"Encoded labels:\", y_encoded[:5])\n",
    "\n",
    "# Printing more encoded labels to ensure there are 1s and 0s\n",
    "print(\"Encoded labels:\", y_encoded)"
   ]
  },
  {
   "cell_type": "markdown",
   "id": "fee85305",
   "metadata": {},
   "source": [
    "Good, now we'll do our data splitting and scaling.  Let's go with an 80/20 split this time."
   ]
  },
  {
   "cell_type": "code",
   "execution_count": 11,
   "id": "2a0cf1df",
   "metadata": {},
   "outputs": [
    {
     "name": "stdout",
     "output_type": "stream",
     "text": [
      "[[ 1.52975017 -1.6088679  -0.32113297 ... -1.38525092 -0.78735628\n",
      "   0.39206564]\n",
      " [-0.19608059  0.51082402  1.10685939 ... -0.33880876  0.54848058\n",
      "  -1.41441862]\n",
      " [-0.37998058 -1.58553983  1.10685939 ... -0.27588405 -0.27950979\n",
      "   0.39206564]\n",
      " ...\n",
      " [ 1.0629271   0.83899866 -0.0355345  ... -0.28263175 -1.10532242\n",
      "   0.39206564]\n",
      " [ 0.68805402 -1.09051012 -1.46352686 ... -0.70847934 -0.70366533\n",
      "  -1.41441862]\n",
      " [-0.20315366 -0.15343311  0.82126092 ...  0.70679396  0.10160362\n",
      "   0.39206564]]\n"
     ]
    }
   ],
   "source": [
    "# Split data into 80% train and 20% test\n",
    "X_train, X_test, y_train, y_test = train_test_split(X, y_encoded, test_size=0.2, random_state=42, stratify=y_encoded)\n",
    "\n",
    "# Initialize the scaler\n",
    "scaler = StandardScaler()\n",
    "\n",
    "# Fit and transform only the training set\n",
    "X_train_scaled = scaler.fit_transform(X_train)\n",
    "\n",
    "# Use the same scaler to transform the test set\n",
    "X_test_scaled = scaler.fit_transform(X_test) \n",
    "\n",
    "# Print to view X_test_scaled\n",
    "print(X_test_scaled)"
   ]
  },
  {
   "cell_type": "markdown",
   "id": "d74c0a3c-c1b9-438a-8e44-5654e6406f6d",
   "metadata": {},
   "source": [
    "### Step 5: Train the models\n",
    "OK, now it's time to build our models and assess the training accuracy. We'll use the default of k = 5 for the KNN model."
   ]
  },
  {
   "cell_type": "code",
   "execution_count": 12,
   "id": "3f88e4c7",
   "metadata": {},
   "outputs": [
    {
     "name": "stdout",
     "output_type": "stream",
     "text": [
      "Training Accuracy:\n",
      "KNN trainingcuracy: 0.915\n",
      "DT training accrcay: 1.0\n"
     ]
    }
   ],
   "source": [
    "# Initialize models\n",
    "knn = KNeighborsClassifier(n_neighbors = 5)\n",
    "dt = DecisionTreeClassifier(random_state = 42)\n",
    "\n",
    "# Fit both models\n",
    "knn.fit(X_train_scaled, y_train)\n",
    "dt.fit(X_train_scaled, y_train)\n",
    "\n",
    "# Predictions on training data\n",
    "knn_y_train_pred = knn.predict(X_train_scaled)\n",
    "dt_y_train_pred = dt.predict(X_train_scaled)\n",
    "\n",
    "# Compute training accuracy\n",
    "knn_train_accuracy = accuracy_score(y_train, knn_y_train_pred)\n",
    "dt_train_accuracy = accuracy_score(y_train, dt_y_train_pred)\n",
    "\n",
    "# Print training accuracy for both models\n",
    "print(\"Training Accuracy:\")\n",
    "print(f\"KNN trainingcuracy: {knn_train_accuracy:.3}\")\n",
    "print(f\"DT training accrcay: {dt_train_accuracy:.3}\")"
   ]
  },
  {
   "cell_type": "markdown",
   "id": "8a0ec565",
   "metadata": {},
   "source": [
    "### Step 6: Evaluate models\n",
    "OK, now let's go ahead and predict on the test data to see how well our models do at predicting the genre of unseen tracks."
   ]
  },
  {
   "cell_type": "code",
   "execution_count": 13,
   "id": "b1ce64ad",
   "metadata": {},
   "outputs": [
    {
     "name": "stdout",
     "output_type": "stream",
     "text": [
      "Predictions:\n",
      "KNN accuracy prediction: 0.877\n",
      "DT accuracy prediction: 0.841\n"
     ]
    }
   ],
   "source": [
    "# Make predictions\n",
    "knn_pred = knn.predict(X_test_scaled)\n",
    "dt_pred = dt.predict(X_test_scaled)\n",
    "\n",
    "# Evaluate prediction accuracy\n",
    "knn_accuracy = accuracy_score(y_test, knn_pred)\n",
    "dt_accuracy = accuracy_score(y_test, dt_pred)\n",
    "\n",
    "# Print prediction accuracy for both models\n",
    "print(\"Predictions:\")\n",
    "print(f\"KNN accuracy prediction: {knn_accuracy:.3f}\")\n",
    "print(f\"DT accuracy prediction: {dt_accuracy:.3f}\")"
   ]
  },
  {
   "cell_type": "markdown",
   "id": "84aed7de",
   "metadata": {},
   "source": [
    "### Step 7: Visualizing Model Performance\n",
    "Now that we have evaluated our models on unseen data, let’s compare their performance by visualizing the training vs. test accuracy.  We'll look for signs of overfitting by plotting the training accuracy and test accuracy for both k-NN and Decision Trees.\n",
    "\n",
    "Create a bar chart that compares the training accuracy and test accuracy for k-NN and Decision Trees. Your plot should clearly display:\n",
    "\n",
    "- The training and test accuracy for both models.\n",
    "- Properly labeled axes and a title.\n",
    "- A legend to differentiate training and test accuracy.\n",
    "- Accuracy values displayed on top of each bar."
   ]
  },
  {
   "cell_type": "code",
   "execution_count": 14,
   "id": "ce4efa80",
   "metadata": {},
   "outputs": [
    {
     "name": "stdout",
     "output_type": "stream",
     "text": [
      "[0.9145819701011728, 1.0]\n",
      "[0.876988121602577, 0.8407489430239581]\n"
     ]
    },
    {
     "data": {
      "image/png": "[encoded data removed]",
      "text/plain": [
       "<Figure size 800x600 with 1 Axes>"
      ]
     },
     "metadata": {},
     "output_type": "display_data"
    }
   ],
   "source": [
    "# Create visualization:\n",
    "labels = ['K-Nearest Neighbor', 'Decision Tree']\n",
    "test_accuracies = [knn_accuracy, dt_accuracy]\n",
    "train_accuracies = [knn_train_accuracy, dt_train_accuracy]\n",
    "N = len(labels)\n",
    "ind = np.arange(N)\n",
    "\n",
    "# Test to view accuracy values for train and test\n",
    "print(train_accuracies)\n",
    "print(test_accuracies)\n",
    "\n",
    "# Figure size\n",
    "plt.figure(figsize=(8, 6))\n",
    "width = 0.3       \n",
    "\n",
    "# Plotting\n",
    "plt.bar(ind, train_accuracies, width, label='Training Accuracy', color='goldenrod', alpha=0.8)\n",
    "plt.bar(ind + width, test_accuracies, width, label='Test Accuracy', color='darkcyan', alpha=0.8)\n",
    "plt.xlabel('Model')\n",
    "plt.ylabel('Accuracy')\n",
    "plt.title('Model Accuracy Comparison')\n",
    "plt.xticks(ind + width / 2, labels)\n",
    "plt.legend()\n",
    "\n",
    "# print plot\n",
    "plt.show()"
   ]
  },
  {
   "cell_type": "markdown",
   "id": "2bea31ee",
   "metadata": {},
   "source": [
    "**Question:**\n",
    "\n",
    "Which model does a better job of generalizing to unseen data? How do you know?\n",
    "Does it appear that either of the models are overfitting? Why?"
   ]
  },
  {
   "cell_type": "code",
   "execution_count": 15,
   "id": "6e9542f8-ecb3-4fb1-984a-24e0469ba62e",
   "metadata": {
    "tags": []
   },
   "outputs": [
    {
     "name": "stdout",
     "output_type": "stream",
     "text": [
      "The model with the higher accuracy score is: KNN\n",
      "The KNN training accuracy score is: 0.915\n",
      "The KNN test accuracy score is: 0.877\n",
      "The difference between KNN training and test accuracy is: 0.038\n",
      "The KNN training accuracy is higher than the testing accuracy, indicating potential overfitting.\n",
      "\n",
      "The Decision Tree training accuracy score is: 1.00\n",
      "The Decision Tree testing accuracy score is: 0.84\n",
      "The difference between Decision Tree training and testing accuracy is: 0.16\n",
      "The Decision Tree training accuracy is higher than the test accuracy, indicating potential overfitting.\n"
     ]
    }
   ],
   "source": [
    "# Model Comparison if-else\n",
    "if knn_accuracy > dt_accuracy:\n",
    "    acur = \"KNN\"\n",
    "else:\n",
    "    acur = \"Decision Tree\"\n",
    "\n",
    "print(f\"The model with the higher accuracy score is: {acur}\")\n",
    "\n",
    "# KNN Accuracy Analysis\n",
    "knn_dif = knn_train_accuracy - knn_accuracy\n",
    "print(f\"The KNN training accuracy score is: {knn_train_accuracy:.3f}\")\n",
    "print(f\"The KNN test accuracy score is: {knn_accuracy:.3f}\")\n",
    "print(f\"The difference between KNN training and test accuracy is: {knn_dif:.3f}\")\n",
    "\n",
    "if knn_train_accuracy > knn_accuracy:\n",
    "    print(\"The KNN training accuracy is higher than the testing accuracy, indicating potential overfitting.\")\n",
    "else:\n",
    "    print(\"The KNN test accuracy is higher than or equal to the training accuracy.\")\n",
    "\n",
    "# Decision Tree Accuracy Analysis\n",
    "dt_dif = dt_train_accuracy - dt_accuracy\n",
    "print(f\"\\nThe Decision Tree training accuracy score is: {dt_train_accuracy:.2f}\")\n",
    "print(f\"The Decision Tree testing accuracy score is: {dt_accuracy:.2f}\")\n",
    "print(f\"The difference between Decision Tree training and testing accuracy is: {dt_dif:.2f}\")\n",
    "\n",
    "if dt_train_accuracy > dt_accuracy:\n",
    "    print(\"The Decision Tree training accuracy is higher than the test accuracy, indicating potential overfitting.\")\n",
    "else:\n",
    "    print(\"The Decision Tree test accuracy is higher than or equal to the training accuracy.\")\n"
   ]
  },
  {
   "cell_type": "markdown",
   "id": "7a6ab978",
   "metadata": {},
   "source": [
    "**Answer:**\n",
    "\n",
    "I would say the KNN model does better with the unseen data because the accuracy score is 0.877 vs the Decision tree model accuracy which is 0.84. The difference between the KNN training and test accuracy value (0.038) is also much smaller than the difference for the Decision Tree (0.16). While when considering models it is important to look at more than just accuracy, but for this assignment that is what we focused on so basing it on accuracy alone the KNN model does better. There also seems to be a significant amount of overfitting in the Decision Tree model, with the train accuracy score being 1.0. This would indicate severe overfitting. While the KNN training accuracy score is also high, it is not as high as the Decision tree model and has less of a difference between the testing and training scores."
   ]
  },
  {
   "cell_type": "markdown",
   "id": "29d196dd",
   "metadata": {},
   "source": [
    "### Bonus question\n",
    "\n",
    "In the workflow above, we used the default parameter values of `k = 5` for the KNN model, and `maxdepth = None` for the Decision Tree.  Choose one of the models and see if you can improve test performance by optmizing its corresponding parameter value."
   ]
  },
  {
   "cell_type": "markdown",
   "id": "d8de64c2",
   "metadata": {},
   "source": []
  }
 ],
 "metadata": {
  "kernelspec": {
   "display_name": "Python 3 (ipykernel)",
   "language": "python",
   "name": "python3"
  },
  "language_info": {
   "codemirror_mode": {
    "name": "ipython",
    "version": 3
   },
   "file_extension": ".py",
   "mimetype": "text/x-python",
   "name": "python",
   "nbconvert_exporter": "python",
   "pygments_lexer": "ipython3",
   "version": "3.7.13"
  }
 },
 "nbformat": 4,
 "nbformat_minor": 5
}
