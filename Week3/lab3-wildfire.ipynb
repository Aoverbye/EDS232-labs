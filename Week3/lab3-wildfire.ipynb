{
 "cells": [
  {
   "cell_type": "code",
   "execution_count": 2,
   "id": "6d41e7de-5f0c-4baf-a37f-ec5dbe4f7428",
   "metadata": {
    "tags": []
   },
   "outputs": [],
   "source": [
    "# Imports\n",
    "import pandas as pd\n",
    "import numpy as np\n",
    "from sklearn.model_selection import train_test_split\n",
    "from sklearn.preprocessing import StandardScaler\n",
    "from sklearn.linear_model import LogisticRegression\n",
    "from sklearn.dummy import DummyClassifier\n",
    "from sklearn.metrics import accuracy_score, confusion_matrix, classification_report, roc_curve, roc_auc_score, ConfusionMatrixDisplay\n",
    "import matplotlib.pyplot as plt\n"
   ]
  },
  {
   "cell_type": "markdown",
   "id": "e492775e-957c-40b4-b64f-5de93dbea5e1",
   "metadata": {},
   "source": [
    "# Lab 4: Fire and Tree Mortality\n",
    "\n",
    "# About the data\n",
    "Wildfires are increasingly frequent and severe due to climate change. Predicting tree mortality following a wildfire is critical for forest management, ecosystem recovery, and carbon sequestration planning. In this lab, we will build a logistic regression model to predict the probability of tree mortality one year after a wildfire\n",
    "\n",
    "The database we'll be working with today includes observations of individual trees involved in prescribed fires and wildfires occurring over 35 years, from 1981 to 2016. It is drawn from a fire and tree mortality database from the US Forest Service (see data description for the full database here: [link](https://www.nature.com/articles/s41597-020-0522-7#Sec10)).\n",
    "\n",
    "The target variable we'll use is `yr1status`, which is a binary variable (0=alive, 1=dead).  This tells us if a tree has died one year after a fire event.\n",
    "\n",
    "The features we'll use are `YrFireName`, `Times_burned`, `Species`, `Genus_species`,\n",
    "    `DBH_cm`, `HT_m`, `CR_pre`, and `CR_post`."
   ]
  },
  {
   "cell_type": "markdown",
   "id": "8f2c5ce6-eb43-4544-8b88-c306a7618c85",
   "metadata": {},
   "source": [
    "## Step 1: Check the metadata\n",
    "\n",
    "Look at the metadata and provide a description on what each variable represents in the Description column below.\n"
   ]
  },
  {
   "cell_type": "markdown",
   "id": "c7b239ac-123f-4458-bf2c-fc46dcf5cc0a",
   "metadata": {},
   "source": [
    "| Feature                     | Description                                                                                   |\n",
    "|-----------------------------|-----------------------------------------------------------------------------------------------| \n",
    "| yr1status                   |Tree status in year 1 post-fire. (0=alive, 1=dead).\n",
    "| YrFireName                  |Year and name of the fire.\n",
    "| Times_burned                |The number of times this tree was burned.\n",
    "| Species                     |Specific epithet\n",
    "| Genus_species               |Genus and species of tree\n",
    "| DBH_cm                      |Diameter at breast height rounded to nearest 0.1 cm\n",
    "| HT_m                        |Pre-fire tree height rounded to nearest 0.01 m \n",
    "| CR_pre                      |Pre-fire crown ratio.Crown length divided by height\n",
    "| CR_post                     |Post-fire live crown ratio"
   ]
  },
  {
   "cell_type": "markdown",
   "id": "55d355a0",
   "metadata": {},
   "source": [
    "## Step 2: Fetch  data\n",
    "Read in the data set and filter to retain only the variables of interest.  Then check for incomplete observations and remove any rows containing NaNs.  How many observations does that leave us with? **Print your answer.**"
   ]
  },
  {
   "cell_type": "code",
   "execution_count": 14,
   "id": "ac926dc2",
   "metadata": {
    "tags": []
   },
   "outputs": [
    {
     "name": "stderr",
     "output_type": "stream",
     "text": [
      "/tmp/ipykernel_1203371/1765753220.py:2: DtypeWarning: Columns (4,5,6,7,10,62,63) have mixed types. Specify dtype option on import or set low_memory=False.\n",
      "  trees_dat = pd.read_csv('/courses/EDS232/Data/FTM_trees.csv')\n"
     ]
    }
   ],
   "source": [
    "# Load the dataset\n",
    "trees_dat = pd.read_csv('/courses/EDS232/Data/FTM_trees.csv')"
   ]
  },
  {
   "cell_type": "code",
   "execution_count": 11,
   "id": "36605482-9bba-4098-a6fd-2ef0e0a4f010",
   "metadata": {
    "tags": []
   },
   "outputs": [
    {
     "name": "stdout",
     "output_type": "stream",
     "text": [
      "Index(['YrFireName', 'Species', 'Dataset', 'Times_burned', 'ID', 'Plot',\n",
      "       'TreeNum', 'Unit', 'Genus', 'Species_name', 'Subspecies',\n",
      "       'Genus_species', 'DBH_cm', 'DRC_cm', 'HT_m', 'HCB_pre', 'CR_pre', 'CC',\n",
      "       'VR', 'CL_m', 'yr0status', 'yr1status', 'yr2status', 'yr3status',\n",
      "       'yr4status', 'yr5status', 'yr6status', 'yr7status', 'yr8status',\n",
      "       'yr9status', 'yr10status', 'HCB_post', 'CR_post', 'CSH_m', 'CLS_m',\n",
      "       'CLK_m', 'CLS_percent', 'CLK_percent', 'CVS_percent', 'CVK_percent',\n",
      "       'CVC_percent', 'CBS', 'BCHA_m', 'BCHM_m', 'BCH_percent', 'BCA', 'CKR',\n",
      "       'GCA', 'GIR_percent', 'DMR', 'BTL', 'AB', 'DFB', 'FEN', 'IPS', 'MPB',\n",
      "       'RPB', 'RTB', 'SB', 'WPB', 'WB', 'SPB', 'CVS_percent_source',\n",
      "       'CVK_percent_source'],\n",
      "      dtype='object')\n",
      "YrFireName             object\n",
      "Species                object\n",
      "Dataset                object\n",
      "Times_burned            int64\n",
      "ID                     object\n",
      "                       ...   \n",
      "WPB                   float64\n",
      "WB                    float64\n",
      "SPB                   float64\n",
      "CVS_percent_source     object\n",
      "CVK_percent_source     object\n",
      "Length: 64, dtype: object\n"
     ]
    }
   ],
   "source": [
    "print(trees_dat.columns)\n",
    "print(trees_dat.dtypes)"
   ]
  },
  {
   "cell_type": "code",
   "execution_count": 8,
   "id": "dc3e1fc7-abe4-4b57-9628-a41f3a2c07a7",
   "metadata": {
    "tags": []
   },
   "outputs": [
    {
     "data": {
      "text/html": [
       "<div>\n",
       "<style scoped>\n",
       "    .dataframe tbody tr th:only-of-type {\n",
       "        vertical-align: middle;\n",
       "    }\n",
       "\n",
       "    .dataframe tbody tr th {\n",
       "        vertical-align: top;\n",
       "    }\n",
       "\n",
       "    .dataframe thead th {\n",
       "        text-align: right;\n",
       "    }\n",
       "</style>\n",
       "<table border=\"1\" class=\"dataframe\">\n",
       "  <thead>\n",
       "    <tr style=\"text-align: right;\">\n",
       "      <th></th>\n",
       "      <th>YrFireName</th>\n",
       "      <th>Species</th>\n",
       "      <th>Dataset</th>\n",
       "      <th>Times_burned</th>\n",
       "      <th>ID</th>\n",
       "      <th>Plot</th>\n",
       "      <th>TreeNum</th>\n",
       "      <th>Unit</th>\n",
       "      <th>Genus</th>\n",
       "      <th>Species_name</th>\n",
       "      <th>...</th>\n",
       "      <th>IPS</th>\n",
       "      <th>MPB</th>\n",
       "      <th>RPB</th>\n",
       "      <th>RTB</th>\n",
       "      <th>SB</th>\n",
       "      <th>WPB</th>\n",
       "      <th>WB</th>\n",
       "      <th>SPB</th>\n",
       "      <th>CVS_percent_source</th>\n",
       "      <th>CVK_percent_source</th>\n",
       "    </tr>\n",
       "  </thead>\n",
       "  <tbody>\n",
       "    <tr>\n",
       "      <th>0</th>\n",
       "      <td>2006 - Tripod</td>\n",
       "      <td>2TREE</td>\n",
       "      <td>Prichard</td>\n",
       "      <td>1</td>\n",
       "      <td>NaN</td>\n",
       "      <td>188</td>\n",
       "      <td>15.0</td>\n",
       "      <td>NaN</td>\n",
       "      <td>NaN</td>\n",
       "      <td>NaN</td>\n",
       "      <td>...</td>\n",
       "      <td>NaN</td>\n",
       "      <td>NaN</td>\n",
       "      <td>NaN</td>\n",
       "      <td>NaN</td>\n",
       "      <td>NaN</td>\n",
       "      <td>NaN</td>\n",
       "      <td>NaN</td>\n",
       "      <td>NaN</td>\n",
       "      <td>F</td>\n",
       "      <td>NaN</td>\n",
       "    </tr>\n",
       "    <tr>\n",
       "      <th>1</th>\n",
       "      <td>2006 - Tripod</td>\n",
       "      <td>2TREE</td>\n",
       "      <td>Prichard</td>\n",
       "      <td>1</td>\n",
       "      <td>NaN</td>\n",
       "      <td>74</td>\n",
       "      <td>20.0</td>\n",
       "      <td>NaN</td>\n",
       "      <td>NaN</td>\n",
       "      <td>NaN</td>\n",
       "      <td>...</td>\n",
       "      <td>NaN</td>\n",
       "      <td>NaN</td>\n",
       "      <td>NaN</td>\n",
       "      <td>NaN</td>\n",
       "      <td>NaN</td>\n",
       "      <td>NaN</td>\n",
       "      <td>NaN</td>\n",
       "      <td>NaN</td>\n",
       "      <td>F</td>\n",
       "      <td>NaN</td>\n",
       "    </tr>\n",
       "    <tr>\n",
       "      <th>2</th>\n",
       "      <td>2006 - Tripod</td>\n",
       "      <td>2TREE</td>\n",
       "      <td>Prichard</td>\n",
       "      <td>1</td>\n",
       "      <td>NaN</td>\n",
       "      <td>193</td>\n",
       "      <td>22.0</td>\n",
       "      <td>NaN</td>\n",
       "      <td>NaN</td>\n",
       "      <td>NaN</td>\n",
       "      <td>...</td>\n",
       "      <td>NaN</td>\n",
       "      <td>NaN</td>\n",
       "      <td>NaN</td>\n",
       "      <td>NaN</td>\n",
       "      <td>NaN</td>\n",
       "      <td>NaN</td>\n",
       "      <td>NaN</td>\n",
       "      <td>NaN</td>\n",
       "      <td>F</td>\n",
       "      <td>NaN</td>\n",
       "    </tr>\n",
       "    <tr>\n",
       "      <th>3</th>\n",
       "      <td>2006 - Tripod</td>\n",
       "      <td>2TREE</td>\n",
       "      <td>Prichard</td>\n",
       "      <td>1</td>\n",
       "      <td>NaN</td>\n",
       "      <td>126</td>\n",
       "      <td>6.0</td>\n",
       "      <td>NaN</td>\n",
       "      <td>NaN</td>\n",
       "      <td>NaN</td>\n",
       "      <td>...</td>\n",
       "      <td>NaN</td>\n",
       "      <td>NaN</td>\n",
       "      <td>NaN</td>\n",
       "      <td>NaN</td>\n",
       "      <td>NaN</td>\n",
       "      <td>NaN</td>\n",
       "      <td>NaN</td>\n",
       "      <td>NaN</td>\n",
       "      <td>F</td>\n",
       "      <td>NaN</td>\n",
       "    </tr>\n",
       "    <tr>\n",
       "      <th>4</th>\n",
       "      <td>2006 - Tripod</td>\n",
       "      <td>2TREE</td>\n",
       "      <td>Prichard</td>\n",
       "      <td>1</td>\n",
       "      <td>NaN</td>\n",
       "      <td>113</td>\n",
       "      <td>11.0</td>\n",
       "      <td>NaN</td>\n",
       "      <td>NaN</td>\n",
       "      <td>NaN</td>\n",
       "      <td>...</td>\n",
       "      <td>NaN</td>\n",
       "      <td>NaN</td>\n",
       "      <td>NaN</td>\n",
       "      <td>NaN</td>\n",
       "      <td>NaN</td>\n",
       "      <td>NaN</td>\n",
       "      <td>NaN</td>\n",
       "      <td>NaN</td>\n",
       "      <td>F</td>\n",
       "      <td>NaN</td>\n",
       "    </tr>\n",
       "  </tbody>\n",
       "</table>\n",
       "<p>5 rows × 64 columns</p>\n",
       "</div>"
      ],
      "text/plain": [
       "      YrFireName Species   Dataset  Times_burned   ID Plot TreeNum Unit Genus  \\\n",
       "0  2006 - Tripod   2TREE  Prichard             1  NaN  188    15.0  NaN   NaN   \n",
       "1  2006 - Tripod   2TREE  Prichard             1  NaN   74    20.0  NaN   NaN   \n",
       "2  2006 - Tripod   2TREE  Prichard             1  NaN  193    22.0  NaN   NaN   \n",
       "3  2006 - Tripod   2TREE  Prichard             1  NaN  126     6.0  NaN   NaN   \n",
       "4  2006 - Tripod   2TREE  Prichard             1  NaN  113    11.0  NaN   NaN   \n",
       "\n",
       "  Species_name  ... IPS MPB  RPB  RTB  SB  WPB  WB  SPB  CVS_percent_source  \\\n",
       "0          NaN  ... NaN NaN  NaN  NaN NaN  NaN NaN  NaN                   F   \n",
       "1          NaN  ... NaN NaN  NaN  NaN NaN  NaN NaN  NaN                   F   \n",
       "2          NaN  ... NaN NaN  NaN  NaN NaN  NaN NaN  NaN                   F   \n",
       "3          NaN  ... NaN NaN  NaN  NaN NaN  NaN NaN  NaN                   F   \n",
       "4          NaN  ... NaN NaN  NaN  NaN NaN  NaN NaN  NaN                   F   \n",
       "\n",
       "   CVK_percent_source  \n",
       "0                 NaN  \n",
       "1                 NaN  \n",
       "2                 NaN  \n",
       "3                 NaN  \n",
       "4                 NaN  \n",
       "\n",
       "[5 rows x 64 columns]"
      ]
     },
     "execution_count": 8,
     "metadata": {},
     "output_type": "execute_result"
    }
   ],
   "source": [
    "trees_dat.head()"
   ]
  },
  {
   "cell_type": "code",
   "execution_count": 16,
   "id": "30043d64-c10b-4f17-955b-5ef87ad9097b",
   "metadata": {
    "tags": []
   },
   "outputs": [],
   "source": [
    "trees_dat = trees_dat.loc[:, ['YrFireName', 'Times_burned', 'Species', 'Genus_species', 'DBH_cm', 'HT_m', 'CR_pre', 'CR_post']]"
   ]
  },
  {
   "cell_type": "code",
   "execution_count": 18,
   "id": "33293b34-2bce-4605-aabf-4b5eb68b3e0a",
   "metadata": {
    "tags": []
   },
   "outputs": [],
   "source": [
    "trees_dat = trees_dat.dropna()"
   ]
  },
  {
   "cell_type": "code",
   "execution_count": 27,
   "id": "2a0b44ee-9fb4-405f-86db-6648259d398c",
   "metadata": {
    "tags": []
   },
   "outputs": [
    {
     "name": "stdout",
     "output_type": "stream",
     "text": [
      "       YrFireName  Times_burned Species   Genus_species  DBH_cm   HT_m  \\\n",
      "500  2003 - Griff             1    ABAM  Abies_amabilis  71.374  41.76   \n",
      "501  2003 - Griff             1    ABAM  Abies_amabilis  23.622  12.80   \n",
      "502  2003 - Griff             1    ABAM  Abies_amabilis  46.228  34.75   \n",
      "503  2003 - Griff             1    ABAM  Abies_amabilis  21.082  23.16   \n",
      "504  2003 - Griff             1    ABAM  Abies_amabilis  24.384  26.21   \n",
      "\n",
      "     CR_pre  CR_post  \n",
      "500    0.84     0.74  \n",
      "501    0.60     0.57  \n",
      "502    0.75     0.59  \n",
      "503    0.38     0.38  \n",
      "504    0.42     0.42  \n",
      "YrFireName        object\n",
      "Times_burned       int64\n",
      "Species           object\n",
      "Genus_species     object\n",
      "DBH_cm           float64\n",
      "HT_m             float64\n",
      "CR_pre           float64\n",
      "CR_post          float64\n",
      "dtype: object\n"
     ]
    }
   ],
   "source": [
    "print(trees_dat.head())\n",
    "print(trees_dat.dtypes)"
   ]
  },
  {
   "cell_type": "markdown",
   "id": "aaf806bf",
   "metadata": {},
   "source": [
    "## Step 3: Data Preprocessing\n",
    "1. We recode categorical predictors to zero-based integer form because most machine learning models, including logistic regression, cannot work directly with categorical data represented as strings or labels. Instead, models require numerical input. Let's do that here. \n"
   ]
  },
  {
   "cell_type": "code",
   "execution_count": 63,
   "id": "1e41fb79-ad31-4162-ac76-887461bb4160",
   "metadata": {
    "tags": []
   },
   "outputs": [
    {
     "name": "stdout",
     "output_type": "stream",
     "text": [
      "YrFireName             object\n",
      "Times_burned            int64\n",
      "Species                object\n",
      "Genus_species          object\n",
      "DBH_cm                float64\n",
      "HT_m                  float64\n",
      "CR_pre                float64\n",
      "CR_post               float64\n",
      "YrFireName_encoded      int64\n",
      "YrFireName_int          int64\n",
      "species_int             int64\n",
      "yrfirename_int          int64\n",
      "genus_species_int       int64\n",
      "dtype: object\n"
     ]
    }
   ],
   "source": [
    "#factorize, convert dtypes\n",
    "trees_dat['yrfirename_int'] = pd.factorize(trees_dat['YrFireName'])[0]\n",
    "trees_dat['species_int'] = pd.factorize(trees_dat['Species'])[0]\n",
    "trees_dat['genus_species_int'] = pd.factorize(trees_dat['Genus_species'])[0]\n",
    "\n",
    "print(trees_dat.dtypes)"
   ]
  },
  {
   "cell_type": "code",
   "execution_count": 64,
   "id": "faba47ef-40c2-48b0-a744-e1c83fbcddee",
   "metadata": {
    "tags": []
   },
   "outputs": [
    {
     "name": "stdout",
     "output_type": "stream",
     "text": [
      "            YrFireName  Times_burned Species      Genus_species  DBH_cm  \\\n",
      "500       2003 - Griff             1    ABAM     Abies_amabilis  71.374   \n",
      "501       2003 - Griff             1    ABAM     Abies_amabilis  23.622   \n",
      "502       2003 - Griff             1    ABAM     Abies_amabilis  46.228   \n",
      "503       2003 - Griff             1    ABAM     Abies_amabilis  21.082   \n",
      "504       2003 - Griff             1    ABAM     Abies_amabilis  24.384   \n",
      "...                ...           ...     ...                ...     ...   \n",
      "169332  2003 - B and B             1    TSME  Tsuga_mertensiana  32.512   \n",
      "169333  2003 - B and B             1    TSME  Tsuga_mertensiana  24.892   \n",
      "169334  2003 - B and B             1    TSME  Tsuga_mertensiana  32.258   \n",
      "169335  2003 - B and B             1    TSME  Tsuga_mertensiana  31.750   \n",
      "169336  2003 - B and B             1    TSME  Tsuga_mertensiana  28.956   \n",
      "\n",
      "         HT_m  CR_pre  CR_post  YrFireName_encoded  YrFireName_int  \\\n",
      "500     41.76    0.84     0.74                   0               0   \n",
      "501     12.80    0.60     0.57                   0               0   \n",
      "502     34.75    0.75     0.59                   0               0   \n",
      "503     23.16    0.38     0.38                   0               0   \n",
      "504     26.21    0.42     0.42                   0               0   \n",
      "...       ...     ...      ...                 ...             ...   \n",
      "169332  15.54    0.90     0.90                   8               8   \n",
      "169333  14.63    0.81     0.81                   8               8   \n",
      "169334  16.46    0.85     0.63                   8               8   \n",
      "169335  18.59    0.87     0.80                   8               8   \n",
      "169336  17.68    0.79     0.52                   8               8   \n",
      "\n",
      "        species_int  yrfirename_int  genus_species_int  \n",
      "500               0               0                  0  \n",
      "501               0               0                  0  \n",
      "502               0               0                  0  \n",
      "503               0               0                  0  \n",
      "504               0               0                  0  \n",
      "...             ...             ...                ...  \n",
      "169332           31               8                 31  \n",
      "169333           31               8                 31  \n",
      "169334           31               8                 31  \n",
      "169335           31               8                 31  \n",
      "169336           31               8                 31  \n",
      "\n",
      "[36510 rows x 13 columns]\n"
     ]
    }
   ],
   "source": [
    "print(trees_dat)"
   ]
  },
  {
   "cell_type": "markdown",
   "id": "fdcc4673-26dc-4c09-8c9a-0f2f97abe16f",
   "metadata": {},
   "source": [
    "2. Then we'll split into training and test data and scale for coefficient interpretability.  Recall that we use the training features to calculate our scaling parameters (mean and standard deviation) and apply the scaling to those training features (`scaler.fit_transform`) and then apply the scaling to the features in the test data as well (`scaler.transform`).\n"
   ]
  },
  {
   "cell_type": "code",
   "execution_count": null,
   "id": "54b2f9d2-f414-4bf2-b0a3-51d55f3d997a",
   "metadata": {
    "tags": []
   },
   "outputs": [],
   "source": [
    "\n",
    "..."
   ]
  },
  {
   "cell_type": "markdown",
   "id": "3055eca1-9c22-4266-95a0-710b43be5a8e",
   "metadata": {},
   "source": [
    "3. How many training/test observations do we have? Print your answer in the cell below. "
   ]
  },
  {
   "cell_type": "code",
   "execution_count": null,
   "id": "fdb4803d-8680-4ede-b790-3579f4a485e7",
   "metadata": {
    "tags": []
   },
   "outputs": [],
   "source": [
    "...\n",
    "\n",
    "# Verify the training and testing set size\n",
    "print(\"Training set observations:\", )\n",
    "print(\"Testing set observations:\",)"
   ]
  },
  {
   "cell_type": "markdown",
   "id": "4ca8857c",
   "metadata": {},
   "source": [
    "## Step 4: Train a Logistical Model\n",
    "Create a classifier using `LogisticRegression()` and fit it on the training data.  Then assess the model's accuracy on the training set by making predictions on the training data.  Calculate and **print** the accuracy of your model on the training set. "
   ]
  },
  {
   "cell_type": "code",
   "execution_count": null,
   "id": "578b2ca5",
   "metadata": {
    "tags": []
   },
   "outputs": [],
   "source": [
    "...\n",
    "print(f\"Training Accuracy: \")"
   ]
  },
  {
   "cell_type": "markdown",
   "id": "34d86616",
   "metadata": {},
   "source": [
    "## Step 5: Test Set Predictions and Model Evaluation\n",
    "Now let's take our trained logistic classifier and make predictions on the test set. Calculate the accuracy and confusion matrix. Then use `sns.heatmap` for improved confusion matrix visualization."
   ]
  },
  {
   "cell_type": "code",
   "execution_count": null,
   "id": "be4e4d6c",
   "metadata": {
    "tags": []
   },
   "outputs": [],
   "source": [
    "...\n",
    "\n",
    "# Print evaluation metrics\n",
    "print(f\"Accuracy: \")\n",
    "\n",
    "\n",
    "#Plot confusion matrix\n",
    "..."
   ]
  },
  {
   "cell_type": "markdown",
   "id": "9b5cdbbb",
   "metadata": {},
   "source": [
    "## Step 6: Logistic Classifier Evaluation\n",
    "How did your model perform on the unseen data? \n",
    "Does your model perform differently on observations of trees that survived vs trees that died?\n",
    "Is there a class imbalance in this data set?"
   ]
  },
  {
   "cell_type": "markdown",
   "id": "7c651ef7",
   "metadata": {},
   "source": [
    "*Your answer here*"
   ]
  },
  {
   "cell_type": "markdown",
   "id": "c60c7e36",
   "metadata": {},
   "source": [
    "## Step 7: What about a Dummy?\n",
    "What do you think would happen if we built a model that always predicts the majority class (dead trees)? How would its accuracy compare to your logistic regression model?"
   ]
  },
  {
   "cell_type": "markdown",
   "id": "e66ba576",
   "metadata": {},
   "source": [
    "*Your answer here*"
   ]
  },
  {
   "cell_type": "markdown",
   "id": "6854360d",
   "metadata": {},
   "source": [
    "Let's go ahead and do it: use `DummyClassifier()` with the appropriate value for the 'strategy' parameter to train a majority classifier.  Then calculate this model's accuracy on the training data."
   ]
  },
  {
   "cell_type": "code",
   "execution_count": null,
   "id": "fe5b4015",
   "metadata": {
    "tags": []
   },
   "outputs": [],
   "source": [
    "...\n",
    "\n",
    "# Print accuracy and confusion matrix results\n",
    "print(f\"Dummy Accuracy: \")\n",
    "print(\"\\nDummy Confusion Matrix:\")\n"
   ]
  },
  {
   "cell_type": "markdown",
   "id": "e3445d23",
   "metadata": {},
   "source": [
    "# Step 8: ROCs and AUCs\n",
    "Our two models have similar accuracy, but is that all there is to this story?  Let's dig a little deeper on the comparison of our logistic and dummy classifiers by examining the associated receiver-operator characteristic (ROC) curves. Calculate the area under the curve (AUC) for both models."
   ]
  },
  {
   "cell_type": "code",
   "execution_count": null,
   "id": "cef8515b",
   "metadata": {
    "tags": []
   },
   "outputs": [],
   "source": [
    "# Logistic classifier AUC\n",
    "...\n",
    "print(f\"Logistic AUC: \")"
   ]
  },
  {
   "cell_type": "code",
   "execution_count": null,
   "id": "5180e8b8",
   "metadata": {
    "tags": []
   },
   "outputs": [],
   "source": [
    "# Dummy classifier AUC\n",
    "...\n",
    "print(f\"Dummy AUC: \")"
   ]
  },
  {
   "cell_type": "markdown",
   "id": "4acd252f",
   "metadata": {},
   "source": [
    "# Step 9: Plot dummy and logistic model ROC curves\n",
    "Now using the outputs from `roc_curve()`, plot the ROC curves for both models on the same plot.  Make sure to use appropriate labels in the legend."
   ]
  },
  {
   "cell_type": "code",
   "execution_count": null,
   "id": "03a7fe29",
   "metadata": {
    "tags": []
   },
   "outputs": [],
   "source": []
  },
  {
   "cell_type": "markdown",
   "id": "ec104e80",
   "metadata": {},
   "source": [
    "How do the two models compare on AUC?  What are the implications for evaluating classifiers based on accuracy of their predictions?"
   ]
  },
  {
   "cell_type": "markdown",
   "id": "a4ab1a30",
   "metadata": {},
   "source": [
    "*Your answer here*"
   ]
  },
  {
   "cell_type": "markdown",
   "id": "d1767d77",
   "metadata": {},
   "source": [
    "# Step 10: Final interpretation\n",
    "\n",
    "Identifying the most important features in a model can guide decision-making. For instance, in our dataset, highly important features might indicate key factors affecting tree survival after a fire. We will calculate the feature importance by examining the coefficients of our logistic regression model."
   ]
  },
  {
   "cell_type": "code",
   "execution_count": null,
   "id": "e0a97e03",
   "metadata": {
    "tags": []
   },
   "outputs": [],
   "source": [
    "...\n",
    "\n",
    "# Print the sorted feature importance\n",
    "print(importance_df)"
   ]
  },
  {
   "cell_type": "markdown",
   "id": "55d9db5d",
   "metadata": {},
   "source": [
    "Which are the most important features in our model (reference the metadata to help answer this)? Can you think of any implications for forest management or conservation strategy?"
   ]
  },
  {
   "cell_type": "markdown",
   "id": "bd42e56c",
   "metadata": {},
   "source": [
    "*Your answer here*"
   ]
  }
 ],
 "metadata": {
  "kernelspec": {
   "display_name": "Anaconda 3 (EDS232)",
   "language": "python",
   "name": "ml-env"
  },
  "language_info": {
   "codemirror_mode": {
    "name": "ipython",
    "version": 3
   },
   "file_extension": ".py",
   "mimetype": "text/x-python",
   "name": "python",
   "nbconvert_exporter": "python",
   "pygments_lexer": "ipython3",
   "version": "3.10.16"
  }
 },
 "nbformat": 4,
 "nbformat_minor": 5
}
